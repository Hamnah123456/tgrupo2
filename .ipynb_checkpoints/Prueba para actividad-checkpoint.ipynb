{
 "cells": [
  {
   "cell_type": "markdown",
   "id": "5a06f7f7",
   "metadata": {},
   "source": [
    "# What is Regression Doing After All?\n",
    "\n",
    "As we’ve seen so far, regression does an amazing job at controlling for additional variables when we do a test vs control comparison. If we have independence, $ (Y_0 ,Y_1) \\perp T \\mid X$, then regression can identify the ATE by controlling for X. The way regression does this is kind of magical. To get some intuition about it, let’s remember the case when all variables X are dummy variables. If that is the case, regression partitions the data into the dummy cells and computes the mean difference between test and control. This difference in means keeps the Xs constant, since we are doing it in a fixed cell of X dummy. It is as if we were doing $E [Y \\mid T = 1] - E[Y \\mid T =0] \\mid X =x$,  where $ x $ is a dummy cell (all dummies set to 1, for example). Regression then combines the estimate in each of the cells to produce a final ATE. The way it does this is by applying weights to the cell proportional to the variance of the treatment on that group.\n"
   ]
  },
  {
   "cell_type": "markdown",
   "id": "989a759e",
   "metadata": {},
   "source": [
    "\n",
    "To give an example, let’s suppose I’m trying to estimate the effect of a drug and I have 6 men and 4 women. My response variable is days hospitalised and I hope my drug can lower that. On men, the true causal effect is -3, so the drug lowers the stay period by 3 days. On women, it is -2. To make matters more interesting, men are much more affected by this illness and stay longer at the hospital. They also get much more of the drug. Only 1 out of the 6 men does not get the drug. On the other hand, women are more resistant to this illness, so they stay less at the hospital. 50% of the women get the drug.\n"
   ]
  },
  {
   "cell_type": "code",
   "execution_count": 4,
   "id": "1d8f6c0f",
   "metadata": {},
   "outputs": [],
   "source": [
    "import warnings\n",
    "warnings.filterwarnings('ignore')\n",
    "\n",
    "import pandas as pd\n",
    "import numpy as np\n",
    "\n",
    "from matplotlib import style\n",
    "from matplotlib import pyplot as plt\n",
    "import statsmodels.formula.api as smf\n",
    "\n",
    "#import graphviz as gr\n",
    "\n",
    "%matplotlib inline\n",
    "\n",
    "style.use(\"fivethirtyeight\")"
   ]
  },
  {
   "cell_type": "code",
   "execution_count": 5,
   "id": "a1488208",
   "metadata": {},
   "outputs": [],
   "source": [
    "\n",
    "drug_example = pd.DataFrame(dict(\n",
    "    sex= [\"M\",\"M\",\"M\",\"M\",\"M\",\"M\", \"W\",\"W\",\"W\",\"W\"],\n",
    "    drug=[1,1,1,1,1,0,  1,0,1,0],\n",
    "    days=[5,5,5,5,5,8,  2,4,2,4]\n",
    "))"
   ]
  },
  {
   "cell_type": "markdown",
   "id": "293faa13",
   "metadata": {},
   "source": [
    "Note that simple comparison of treatment and control yields a negatively biased effect, that is, the drug seems less effective than it truly is. This is expected, since we’ve omitted the sex confounder. In this case, the estimated ATE is smaller than the true one because men get more of the drug and are more affected by the illness."
   ]
  },
  {
   "cell_type": "markdown",
   "id": "c2677fa3",
   "metadata": {},
   "source": [
    "Since the true effect for man is -3 and the true effect for woman is -2, the ATE should be\n",
    "\n",
    "$ATE = \\frac{(-3*6)+(-2*4)}{10} = -2.6$\n",
    "\n",
    "This estimate is done by 1) partitioning the data into confounder cells, in this case, man and women, 2) estimating the effect on each cell and 3) combining the estimate with a weighted average, where the weight is the sample size of the cell or covariate group. If we had exactly the same size of man and woman in the data, the ATE estimate would be right in the middle of the ATE of the 2 groups, -2.5. Since there are more men than women in our dataset, the ATE estimate is a little bit closer to the man’s ATE. This is called a non-parametric estimate, since it places no assumption on how the data was generated.\n",
    "\n",
    "If we control for sex using regression, we will add the assumption of linearity. Regression will also partition the data into man and woman and estimate the effect on both of these groups. So far, so good. However, when it comes to combining the effect on each group, it does not weigh them by the sample size. Instead, regression uses weights that are proportional to the variance of the treatment in that group. In our case, the variance of the treatment in men is smaller than in women, since only one man is in the control group. To be exact, the variance of T for man is $0.139 = 1 /6 * (1 - 1/6)$ and for women is $0.25= 2/4 * (1-2/4)$. So regression will give a higher weight to women in our example and the ATE will be a bit closer to the women’s ATE of -2."
   ]
  },
  {
   "cell_type": "code",
   "execution_count": 1,
   "id": "35562100",
   "metadata": {},
   "outputs": [
    {
     "data": {
      "text/plain": [
       "'Mediano'"
      ]
     },
     "execution_count": 1,
     "metadata": {},
     "output_type": "execute_result"
    }
   ],
   "source": [
    "\n",
    "def F(x,y):\n",
    "    if x <= y:\n",
    "        s=0\n",
    "        for i in range(x,y+1):\n",
    "            s=(i - 2)**3\n",
    "        if s>10:\n",
    "            return(\"Grande\")\n",
    "        elif s< -10:\n",
    "            return(\"Pequeño\")\n",
    "        else:\n",
    "            return(\"Mediano\")\n",
    "    else:\n",
    "        s=0\n",
    "        for i in range(y,x+1):\n",
    "            s=(i+3)**2\n",
    "        if s>10:\n",
    "            return(\"Grande\")\n",
    "        elif s< -10:\n",
    "            return(\"Pequeño\")\n",
    "        else:\n",
    "            return(\"Mediano\")\n",
    "\n",
    "F(1,2)    "
   ]
  },
  {
   "cell_type": "code",
   "execution_count": 2,
   "id": "bfc13b0f",
   "metadata": {},
   "outputs": [
    {
     "data": {
      "text/plain": [
       "'Grande'"
      ]
     },
     "execution_count": 2,
     "metadata": {},
     "output_type": "execute_result"
    }
   ],
   "source": [
    "F(5,2)    "
   ]
  },
  {
   "cell_type": "markdown",
   "id": "6a29f53e",
   "metadata": {},
   "source": [
    "## Modificando para cargarlo en git"
   ]
  },
  {
   "cell_type": "code",
   "execution_count": 3,
   "id": "6c39ba3f",
   "metadata": {},
   "outputs": [
    {
     "data": {
      "text/plain": [
       "30"
      ]
     },
     "execution_count": 3,
     "metadata": {},
     "output_type": "execute_result"
    }
   ],
   "source": [
    "a=10\n",
    "b=20\n",
    "a+b"
   ]
  }
 ],
 "metadata": {
  "kernelspec": {
   "display_name": "Python 3 (ipykernel)",
   "language": "python",
   "name": "python3"
  },
  "language_info": {
   "codemirror_mode": {
    "name": "ipython",
    "version": 3
   },
   "file_extension": ".py",
   "mimetype": "text/x-python",
   "name": "python",
   "nbconvert_exporter": "python",
   "pygments_lexer": "ipython3",
   "version": "3.9.12"
  }
 },
 "nbformat": 4,
 "nbformat_minor": 5
}
